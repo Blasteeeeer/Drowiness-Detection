{
 "cells": [
  {
   "cell_type": "code",
   "execution_count": null,
   "id": "cbc20baf",
   "metadata": {},
   "outputs": [],
   "source": [
    "import dlib\n",
    "import cv2 as cv\n",
    "import numpy as np\n",
    "\n",
    "face_detector = dlib.get_frontal_face_detector()\n",
    "landmark_detector = dlib.shape_predictor(\"shape_predictor_68_face_landmarks.dat\")"
   ]
  },
  {
   "cell_type": "code",
   "execution_count": null,
   "id": "04822182",
   "metadata": {},
   "outputs": [],
   "source": [
    "camera = cv.VideoCapture(0)\n",
    "counter = 0\n",
    "\n",
    "while True:\n",
    "    _, frame = camera.read()\n",
    "    frame = cv.flip(frame,1)\n",
    "    \n",
    "    gray = cv.cvtColor(frame, cv.COLOR_BGR2GRAY)\n",
    "    faces = face_detector(gray)\n",
    "    \n",
    "    for face in faces:\n",
    "        landmarks = landmark_detector(gray,face)\n",
    "\n",
    "        upperRigth_x = int(landmarks.part(44).x)\n",
    "        upperRigth_y = int(landmarks.part(44).y)\n",
    "\n",
    "        lowerRigth_x = int(landmarks.part(46).x)\n",
    "        lowerRigth_y = int(landmarks.part(46).y)\n",
    "        \n",
    "        lRigth_x = int(landmarks.part(42).x)\n",
    "        lRigth_y = int(landmarks.part(42).y)\n",
    "\n",
    "        rRigth_x = int(landmarks.part(45).x)\n",
    "        rRigth_y = int(landmarks.part(45).y)\n",
    "\n",
    "        diff_rigth_Higth = lowerRigth_y - upperRigth_y\n",
    "        \n",
    "        diff_rigth_Width = rRigth_x - lRigth_x\n",
    "        \n",
    "        \n",
    "        \n",
    "        upperLeft_x = int(landmarks.part(38).x)\n",
    "        upperLeft_y = int(landmarks.part(38).y)\n",
    "\n",
    "        lowerLeft_x = int(landmarks.part(40).x)\n",
    "        lowerLeft_y = int(landmarks.part(40).y)\n",
    "        \n",
    "        lLeft_x = int(landmarks.part(36).x)\n",
    "        lLeft_y = int(landmarks.part(36).y)\n",
    "\n",
    "        rLeft_x = int(landmarks.part(39).x)\n",
    "        rLeft_y = int(landmarks.part(39).y)\n",
    "\n",
    "        diff_left_Higth = lowerLeft_y - upperLeft_y\n",
    "        \n",
    "        diff_left_Width = rLeft_x - lLeft_x\n",
    "\n",
    "        if(diff_rigth_Width/diff_rigth_Higth >= 4 and diff_left_Width/diff_left_Higth >= 4):\n",
    "            # print(\"Eye Closed!\")\n",
    "            counter += 1\n",
    "        else:\n",
    "            #print(\"Eye Opeed!\")\n",
    "            counter = 0\n",
    "\n",
    "        if(counter >= 15):\n",
    "            print(\"Alert!!!!!!\")\n",
    "\n",
    "        cv.circle(frame, (upperLeft_x,upperLeft_y), 5, (255,0,0), -1)\n",
    "        cv.circle(frame, (lowerLeft_x,lowerLeft_y), 5, (255,0,0), -1)\n",
    "        \n",
    "        cv.circle(frame, (lLeft_x,lLeft_y), 5, (0,0,255), -1)\n",
    "        cv.circle(frame, (rLeft_x,rLeft_y), 5, (0,0,255), -1)\n",
    "\n",
    "        cv.imshow(\"WEBCAM\", frame)\n",
    "\n",
    "    key = cv.waitKey(20)\n",
    "    if key == 27:\n",
    "        break\n",
    "camera.release()\n",
    "cv.destroyAllWindows()"
   ]
  },
  {
   "cell_type": "code",
   "execution_count": null,
   "id": "5c1acc54",
   "metadata": {},
   "outputs": [],
   "source": [
    "camera.release()"
   ]
  }
 ],
 "metadata": {
  "kernelspec": {
   "display_name": "Python 3 (ipykernel)",
   "language": "python",
   "name": "python3"
  },
  "language_info": {
   "codemirror_mode": {
    "name": "ipython",
    "version": 3
   },
   "file_extension": ".py",
   "mimetype": "text/x-python",
   "name": "python",
   "nbconvert_exporter": "python",
   "pygments_lexer": "ipython3",
   "version": "3.9.7"
  }
 },
 "nbformat": 4,
 "nbformat_minor": 5
}
